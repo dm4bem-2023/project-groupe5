{
 "cells": [
  {
   "cell_type": "markdown",
   "id": "c7094ea2-9419-4614-ad49-62123dcdefed",
   "metadata": {},
   "source": [
    "# Introduction \n",
    "\n",
    "\n",
    "## Description du projet\n",
    "\n",
    "Le projet de gestion dynamique de l'énergie des bâtiments vise à développer des modèles innovants pour optimiser l'efficacité énergétique des bâtiments. Dans cette introduction, nous allons aborder la description du bâtiment ainsi que son emplacement et ses conditions d'utilisation, en mettant l'accent sur le site de Bourg-Saint-Maurice en Savoie, et en décrivant les différents scénarios envisagés pour le nouvel usage des bâtiments existants.\n",
    "\n",
    "## Description du bâtiment\n",
    "\n",
    "Le bâtiment étudié est une ancienne caserne militaire construite dans les années 1960, située à Bourg-Saint-Maurice en Savoie, en France (voir *Figure 1, 2*). Il se compose d'un bâtiment d’infirmerie, actuellement utilisé comme ateliers d'artistes et recyclerie, ainsi que d'un bâtiment comprenant des anciens logements et un mess (désaffecté). Les **matériaux utilisés** dans la construction comprennent du **béton** et de l'**isolant de mouton**. Le **béton**, connu pour sa *solidité et sa durabilité*, constitue la principale structure du bâtiment, tandis que l'**isolant de mouton**, reconnu pour ses propriétés d'isolation thermique et acoustique, est utilisé pour *améliorer l'efficacité énergétique du bâtiment*. \n"
   ]
  },
  {
   "cell_type": "markdown",
   "id": "df2b67c6",
   "metadata": {},
   "source": [
    "<div style=\"text-align:center;\">\n",
    "    <img src=\"./context4.png\" alt=\"Figure1\" style=\"width:400px;height:300px;\">\n",
    "</div>\n",
    "\n",
    "> Figure 1. Localisation de la ville Bourg-Saint-Maurice.\n"
   ]
  },
  {
   "cell_type": "markdown",
   "id": "672713b0-efac-4d12-a2c3-665e6a4e0a43",
   "metadata": {},
   "source": [
    "<div style=\"text-align:center;\">\n",
    "    <img src=\"./context1.png\" alt=\"Figure1\" style=\"width:400px;height:300px;\">\n",
    "</div>\n",
    "\n",
    "> Figure 2. Localisation du bâtiment étudié.\n"
   ]
  },
  {
   "cell_type": "markdown",
   "id": "6c699217",
   "metadata": {},
   "source": [
    "## Dimensions\n",
    "\n",
    "Les dimensions et les surfaces du bâtiment étudie sont les suivantes  :\n",
    "- $l=2.8 \\: \\mathrm{m}$ - hauteur du bâtiment;\n",
    "- $S_total(sol)= 796 m²$   - surface totale du bâtiment;\n",
    "- $S_g= 32.4 m²$   - surface des 18 fenêtres en verre de $1.5 m$ d'hauteur $*1.2 m$ de largeur;\n",
    "- $S_c = S_i = 142.18 m²$   - la surface des 5 murs (béton et isolation, $44.4 m +17.95 m - S_g$) .\n",
    "\n",
    "La figure 3 présente le plan détaillé et les dimensions du bâtiment.\n",
    "\n",
    "<div style=\"text-align:center;\">\n",
    "    <img src=\"./peiades.png\" alt=\"Figure1\" style=\"width:700px;height:300px;\">\n",
    "</div>\n",
    "\n",
    "> Figure 3. Dimensions du bâtiment étudié.\n",
    "\n",
    "\n",
    "Les images ci-dessous montrent les vues extérieures de l'ancien bâtiment:"
   ]
  },
  {
   "cell_type": "markdown",
   "id": "7c7112be-5f5f-4472-b61f-40989e96d50c",
   "metadata": {},
   "source": [
    "<div style=\"text-align:center;\">\n",
    "    <img src=\"./context2.png\" alt=\"Imagen 1\" style=\"display:inline; width:400px; height:300px;\">\n",
    "    <img src=\"./context3.png\" alt=\"Imagen 2\" style=\"display:inline; width:400px; height:300px;\">\n",
    "</div>\n",
    "\n",
    "\n",
    "\n",
    "> Figure 1. Anciennes photos du bâtiment.\n"
   ]
  },
  {
   "cell_type": "markdown",
   "id": "e3477d0c",
   "metadata": {},
   "source": [
    "\n",
    "\n",
    "## État actuel du bâtiment\n",
    "\n",
    "Bien que le bâtiment soit isolé, il est en mauvais état et en tant donné l'âge du bâtiment, il doit être remplacé en même temps que les fenêtres et leurs cadres dans le projet de rénovation envisagé par le maire. Par conséquent, une étude de rénovation thermique devrait être réalisée afin d'évaluer l'état de la consommation d'énergie du bâtiment et pour le choix d'un bon matériau d'isolation aussi durable que possible (l'ACV à réaliser n'est pas abordée dans le présent rapport), en analysant le comportement thermique lors de l'utilisation de différents types de matériaux d'isolation.\n",
    "\n",
    "## Emplacement, Utilisation :\n",
    "\n",
    "Situé à **Bourg-Saint-Maurice en Savoie**, le site offre un environnement unique pour le développement de modèles de gestion énergétique. Les conditions climatiques de la région, avec des hivers froids et des étés modérés, nécessitent une gestion efficace de l'énergie pour assurer le confort des occupants tout en minimisant la consommation d'énergie. De plus, le nouvel usage des bâtiments, qu'il s'agisse d'ateliers d'artistes, d'usage culturel ou d'éducation, nécessitera une adaptation des systèmes de gestion énergétique pour répondre aux besoins spécifiques de chaque scénario.\n",
    "\n",
    "\n",
    "Dans ce projet, la modélisation statique sera étudiée dans un premier temps, pour ensuite poursuivre avec le modèle dynamique.\n"
   ]
  },
  {
   "cell_type": "markdown",
   "id": "d3993287-e80a-4ed7-840b-b718340a985e",
   "metadata": {},
   "source": [
    "# [ Données météorologiques](Donnes_meteo.ipynb)\n",
    "\n",
    "# [ Modèle Thermique et modèle mathematique](Modele_thermique.ipynb)\n",
    "\n",
    "# [Implementation et resultats : simulation stationnaire, polystrène expansé ](Stationnaire_cas.ipynb)\n",
    "\n",
    "# [ Implementation et resultats : simulation stationnaire, laine de mouton ](laine.ipynb)\n",
    "\n",
    "# [ Estimation degre-heurs](degre-hours.ipynb)\n",
    "\n",
    "# [ Modèle Mathematique, implementation et resultats : simulation stationnaire à répresetation état-spatiel ](state-space.ipynb)\n",
    "\n",
    "# [ Simulation dynamique ](simulation_dynamique.ipynb)\n",
    "\n",
    "# [Simulation dynamique : changer entre modèles](heat-cool.ipynb)\n",
    "\n",
    "# [Simulation dynamique : Contrôleur avec feedback](feedback_control.ipynb)\n",
    "\n",
    "\n",
    "---\n"
   ]
  }
 ],
 "metadata": {
  "kernelspec": {
   "display_name": "Python 3 (ipykernel)",
   "language": "python",
   "name": "python3"
  },
  "language_info": {
   "codemirror_mode": {
    "name": "ipython",
    "version": 3
   },
   "file_extension": ".py",
   "mimetype": "text/x-python",
   "name": "python",
   "nbconvert_exporter": "python",
   "pygments_lexer": "ipython3",
   "version": "3.9.7"
  }
 },
 "nbformat": 4,
 "nbformat_minor": 5
}
