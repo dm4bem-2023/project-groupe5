{
 "cells": [
  {
   "cell_type": "markdown",
   "id": "fea7ad8c-df99-4b84-bf76-80fb9ec8b30c",
   "metadata": {},
   "source": [
    "\n",
    "<div style=\"text-align: center; font-weight: bold; font-size: 35px\">Projet Confort thermique à Bourg St Maurice</div>\n",
    "<div style=\"text-align: center; font-weight: bold;\">Rapport ECL </div>\n",
    "\n",
    "<br>\n",
    "\n",
    "![Portada](./portada.png)\n",
    "\n",
    "<div style=\"text-align: center; font-weight: bold;\">Auteurs :</div> <center> Hannia SANTOS CORTES </center>\n",
    "<center> Hyojung KANG </center>\n",
    "<center> Nicolas DUMAS </center>\n",
    "<center> Mainsa WADIDIE </center>\n",
    "<center> Chris MIAKALOUKARIDI </center>\n",
    "\n",
    "<br>\n",
    "\n",
    "\n",
    "\n",
    "   <div style=\"text-align: center; font-weight: bold;\">Profeseur :</div>\n",
    "<center> Christian Ghiaus </center>\n",
    "\n",
    "<br>\n",
    "\n",
    " <div style=\"text-align: center; font-weight: bold;\">Date :</div> \n",
    "<center>   15/mars/2024 </center>\n",
    "  <br>\n",
    "  \n",
    "  \n",
    "   <br>\n",
    "   \n",
    "   \n",
    "---"
   ]
  },
  {
   "cell_type": "markdown",
   "id": "7024528d-c299-41b4-8fd1-787f1165ee0e",
   "metadata": {},
   "source": [
    "<div style=\"text-align: center; font-weight: bold; font-size: 35px\">Sommaire</div>"
   ]
  },
  {
   "cell_type": "markdown",
   "id": "08cc9bca-831e-4b05-8d2c-ccc11288098f",
   "metadata": {},
   "source": [
    "\n",
    "1. **[Indroduction](Introduction.ipynb)**\n",
    "2. **[Données météorologiques du site](Donnes_meteo.ipynb)**\n",
    "2. **[Hypothèses](Donnes_meteo.ipynb#hypothese)**\n",
    "   \n",
    "   1. ***[Conditions aux limites](Donnes_meteo.ipynb#hypothese##Conditionsal)***\n",
    "   2. ***[Hypothèses d'occupation](Donnes_meteo.ipynb#hypothese##Occupation)***\n",
    "   <br>\n",
    "   \n",
    "3. **[Modèle Thermique](Modele_thermique.ipynb)**\n",
    "4. **[Modèle Mathematique, implementation et resultats : simulation stationnaire](Stationnaire_cas.ipynb)**\n",
    "    1. ***[Polystrène expansé ](stationnaire_cas.ipynb)***\n",
    "    2. ***[Laine de mouton](laine.ipynb)***\n",
    "5. **[ Estimation degre-heurs](degre-hours.ipynb)**\n",
    "6. **[Modèle Mathematique, implementation et resultats : simulation stationnaire à état-espace representation](state-space.ipynb)**\n",
    "7. **[Simulation dynamique](simulation_dynamique.ipynb)**\n",
    "8. **[Simulation dynamique : Changer entre modèles](heat-cool.ipynb)**\n",
    "9. **[Conclusion](heat-cool.ipynb#Conclusion)**\n",
    "\n",
    "\n",
    "<br>\n",
    "\n",
    "\n",
    "  <br>\n",
    "\n",
    "---"
   ]
  },
  {
   "cell_type": "markdown",
   "id": "739c58eb-b5ea-478f-bfbf-98e2bb083141",
   "metadata": {},
   "source": [
    "# [ Introduction](Introduction1.ipynb)\n",
    "\n",
    "# [ Données météorologiques](Donnes_meteo.ipynb)\n",
    "\n",
    "# [ Modèle Thermique et modèle mathematique](Modele_thermique.ipynb)\n",
    "\n",
    "# [Implementation et resultats : simulation stationnaire, polystrène expansé ](Stationnaire_cas.ipynb)\n",
    "\n",
    "# [ Implementation et resultats : simulation stationnaire, laine de mouton ](laine.ipynb)\n",
    "\n",
    "# [ Estimation degre-heures](degre-hours.ipynb)\n",
    "\n",
    "# [ Modèle Mathematique, implementation et resultats : simulation stationnaire à répresetation état-spatiel ](state-space.ipynb)\n",
    "\n",
    "# [ Simulation dynamique ](simulation_dynamique.ipynb)\n",
    "\n",
    "# [Simulation dynamique : changer entre modèles](heat-cool.ipynb)\n",
    "\n",
    "\n",
    "\n"
   ]
  },
  {
   "cell_type": "code",
   "execution_count": null,
   "id": "619ead48-6c6a-48fd-aefd-760abbfdd400",
   "metadata": {},
   "outputs": [],
   "source": []
  }
 ],
 "metadata": {
  "kernelspec": {
   "display_name": "Python 3 (ipykernel)",
   "language": "python",
   "name": "python3"
  },
  "language_info": {
   "codemirror_mode": {
    "name": "ipython",
    "version": 3
   },
   "file_extension": ".py",
   "mimetype": "text/x-python",
   "name": "python",
   "nbconvert_exporter": "python",
   "pygments_lexer": "ipython3",
   "version": "3.9.7"
  }
 },
 "nbformat": 4,
 "nbformat_minor": 5
}
