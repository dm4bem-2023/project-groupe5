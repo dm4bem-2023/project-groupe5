{
 "cells": [
  {
   "cell_type": "markdown",
   "id": "11dbd162-d484-4bad-bfe3-b5786769c68d",
   "metadata": {},
   "source": [
    "# [ Introduction](Introduction.ipynb)\n",
    "\n",
    "# [ Données météorologiques](Donnes_meteo.ipynb)\n",
    "\n",
    "# Modèle thermique utilisé"
   ]
  },
  {
   "cell_type": "markdown",
   "id": "a69c7b65-e61c-4eae-a2f1-f8356ca776c1",
   "metadata": {},
   "source": [
    "Pour simplifier les calculs, nous avons modélisé le bâtiment étudié comme un simple bâtiment rectangulaire avec les caractéristiques suivantes : \n",
    "- 5 murs verticaux avec 2 couches : béton et isolation intérieure.\n",
    "- 1 mur vertical vitré.\n",
    "- Les infiltrations d'air sont prises en compte.\n",
    "- Système HVAC qui contrôle la température de l'air interieur.\n",
    "\n",
    "La figure 1 présente les hypothèses retenues.\n"
   ]
  },
  {
   "cell_type": "markdown",
   "id": "875acf25-d109-45e7-91cf-4e58a3c62439",
   "metadata": {},
   "source": [
    "![cube](./Figures/03_cube_principle.svg)\n",
    "> Figure 1. Pièce ventilée simple (5 murs à deux couches et 1 fenêtre en verre) équipée d'un système HVAC qui agit comme un contrôleur proportionnel."
   ]
  },
  {
   "cell_type": "code",
   "execution_count": 1,
   "id": "46bd8cbb-d761-4314-9cfe-490ed869ca15",
   "metadata": {},
   "outputs": [],
   "source": [
    "import numpy as np\n",
    "import pandas as pd\n",
    "import matplotlib.pyplot as plt\n",
    "import dm4bem"
   ]
  },
  {
   "cell_type": "markdown",
   "id": "c69f93f0-4f4d-4443-8f34-8bfad73c2472",
   "metadata": {},
   "source": [
    "Les dimensions et les surfaces du bâtiment étudie sont les suivantes  :\n",
    "- $l=2.8 \\: \\mathrm{m}$ - hauteur du bâtiment;\n",
    "- $S_g= 32.4 m²$   - surface de la fenêtre en verre;\n",
    "- $S_c = S_i = 142.18 m²$   - la surface des 5 murs (béton et isolation)."
   ]
  },
  {
   "cell_type": "code",
   "execution_count": 2,
   "id": "031cbe0f-403b-4e37-b7fe-2f8da0a016b5",
   "metadata": {},
   "outputs": [],
   "source": [
    "l = 2.8               # m length of the room\n",
    "Sg = 32.4 ##l**2 15.36         # m² surface of the glass wall\n",
    "Sc = Si = 142.18   # m² 106.44 surface of concrete & insulation of the 5 walls"
   ]
  },
  {
   "cell_type": "markdown",
   "id": "23eb1741-4064-49c1-bff4-fa8f46a21f36",
   "metadata": {},
   "source": [
    "## Propriétés physico-thermiques\n",
    "\n",
    "Dans cette section, nous décrivons les caractéristiques thermiques et physiques des éléments utilisés dans ce projet."
   ]
  },
  {
   "cell_type": "markdown",
   "id": "4ed890ef-da89-450a-be68-903e8b51f9f1",
   "metadata": {},
   "source": [
    "### Propriétés physico-thermiques : air"
   ]
  },
  {
   "cell_type": "markdown",
   "id": "85a89110-5f0e-401b-9ec9-ba0fb5275271",
   "metadata": {},
   "source": [
    "On peut commencer par definir les propriétés de l'air dans le SI :"
   ]
  },
  {
   "cell_type": "code",
   "execution_count": 3,
   "id": "5e1f8614-4883-4106-b3ba-35fd342ae50e",
   "metadata": {},
   "outputs": [
    {
     "data": {
      "text/html": [
       "<div>\n",
       "<style scoped>\n",
       "    .dataframe tbody tr th:only-of-type {\n",
       "        vertical-align: middle;\n",
       "    }\n",
       "\n",
       "    .dataframe tbody tr th {\n",
       "        vertical-align: top;\n",
       "    }\n",
       "\n",
       "    .dataframe thead th {\n",
       "        text-align: right;\n",
       "    }\n",
       "</style>\n",
       "<table border=\"1\" class=\"dataframe\">\n",
       "  <thead>\n",
       "    <tr style=\"text-align: right;\">\n",
       "      <th></th>\n",
       "      <th>Density</th>\n",
       "      <th>Specific heat</th>\n",
       "    </tr>\n",
       "  </thead>\n",
       "  <tbody>\n",
       "    <tr>\n",
       "      <th>Air</th>\n",
       "      <td>1.2</td>\n",
       "      <td>1000</td>\n",
       "    </tr>\n",
       "  </tbody>\n",
       "</table>\n",
       "</div>"
      ],
      "text/plain": [
       "     Density  Specific heat\n",
       "Air      1.2           1000"
      ]
     },
     "execution_count": 3,
     "metadata": {},
     "output_type": "execute_result"
    }
   ],
   "source": [
    "air = {'Density': 1.2,                      # kg/m³\n",
    "       'Specific heat': 1000}               # J/(kg·K)\n",
    "# pd.DataFrame.from_dict(air, orient='index', columns=['air'])\n",
    "pd.DataFrame(air, index=['Air'])"
   ]
  },
  {
   "cell_type": "markdown",
   "id": "bb291a82-4dd0-48e3-ae7d-5c50eea1b0fa",
   "metadata": {},
   "source": [
    "## Propriétés physico-thermiques : concrete et isolation avec polystrène extrudé"
   ]
  },
  {
   "cell_type": "markdown",
   "id": "49aa4eb9-ea0b-4517-8351-4d4a6931e0e2",
   "metadata": {},
   "source": [
    "Nous définissons ici les propriétés et les géométries utilisées pour le béton et l'isolation.\n",
    "Dans ce travail, nous évaluerons la différence entre l'utilisation de 2 matériaux d'isolation. Pour commencer, nous considérons des **murs** avec 2 couches : l'isolation à l'intérieur (couche 2), et le béton à l'extérieur (couche 1), qui sont modélisés comme des résistances discrétisées, ainsi que les résistances équivalentes de conduction et de convection vues dans la figure 1.\n",
    "La surface vitrée est constituée d'une seule couche de verre avec les mêmes résistances équivalentes au transfert de chaleur que celles utilisées pour les murs."
   ]
  },
  {
   "cell_type": "markdown",
   "id": "7e85eed6-dabb-4531-a0ea-b624c3ac3c65",
   "metadata": {},
   "source": [
    "![wall](./Figures/02_wall.svg)\n",
    "\n",
    "> Figure 2. Composition du mur\n",
    "\n",
    "Les caractéristiques de chaque élément sont décrites ci-dessous, où nous définissons deux types d'isolation : le polystyrène extrudé, en tant que matériau conventionnel, et la laine de chanvre, qui est le matériau que nous voulons utiliser pour les travaux de rénovation et dont nous voulons connaître la performance énergétique. Dans ce première partie, on anayse juste le polystyrène extrudé."
   ]
  },
  {
   "cell_type": "code",
   "execution_count": 4,
   "id": "a3d0f7ce-d7de-4742-a73a-32b8e45296fd",
   "metadata": {},
   "outputs": [
    {
     "data": {
      "text/html": [
       "<div>\n",
       "<style scoped>\n",
       "    .dataframe tbody tr th:only-of-type {\n",
       "        vertical-align: middle;\n",
       "    }\n",
       "\n",
       "    .dataframe tbody tr th {\n",
       "        vertical-align: top;\n",
       "    }\n",
       "\n",
       "    .dataframe thead th {\n",
       "        text-align: right;\n",
       "    }\n",
       "</style>\n",
       "<table border=\"1\" class=\"dataframe\">\n",
       "  <thead>\n",
       "    <tr style=\"text-align: right;\">\n",
       "      <th></th>\n",
       "      <th>Conductivity</th>\n",
       "      <th>Density</th>\n",
       "      <th>Specific heat</th>\n",
       "      <th>Width</th>\n",
       "      <th>Surface</th>\n",
       "    </tr>\n",
       "  </thead>\n",
       "  <tbody>\n",
       "    <tr>\n",
       "      <th>Layer_out</th>\n",
       "      <td>1.400</td>\n",
       "      <td>2300.0</td>\n",
       "      <td>880</td>\n",
       "      <td>0.20</td>\n",
       "      <td>142.18</td>\n",
       "    </tr>\n",
       "    <tr>\n",
       "      <th>Layer_in</th>\n",
       "      <td>0.042</td>\n",
       "      <td>35.0</td>\n",
       "      <td>1700</td>\n",
       "      <td>0.10</td>\n",
       "      <td>142.18</td>\n",
       "    </tr>\n",
       "    <tr>\n",
       "      <th>Glass</th>\n",
       "      <td>1.400</td>\n",
       "      <td>2500.0</td>\n",
       "      <td>750</td>\n",
       "      <td>0.04</td>\n",
       "      <td>32.40</td>\n",
       "    </tr>\n",
       "  </tbody>\n",
       "</table>\n",
       "</div>"
      ],
      "text/plain": [
       "           Conductivity  Density  Specific heat  Width  Surface\n",
       "Layer_out         1.400   2300.0            880   0.20   142.18\n",
       "Layer_in          0.042     35.0           1700   0.10   142.18\n",
       "Glass             1.400   2500.0            750   0.04    32.40"
      ]
     },
     "execution_count": 4,
     "metadata": {},
     "output_type": "execute_result"
    }
   ],
   "source": [
    "concrete = {'Conductivity': 1.400,\n",
    "            'Density': 2300.0,\n",
    "            'Specific heat': 880,\n",
    "            'Width': 0.2,\n",
    "            'Surface': Sc}\n",
    "## insulation polystrène extrudé \n",
    "insulation = {'Conductivity': 0.027,\n",
    "              'Density': 55,\n",
    "              'Specific heat': 1450,\n",
    "              'Width': 0.1,\n",
    "              'Surface': Sc}\n",
    "## insulation laine de chanvre\n",
    "insulation2 = {'Conductivity': 0.042,\n",
    "              'Density': 35,\n",
    "              'Specific heat': 1700,\n",
    "              'Width': 0.1,\n",
    "              'Surface': Sc}\n",
    "glass = {'Conductivity': 1.4,\n",
    "         'Density': 2500,\n",
    "         'Specific heat': 750,\n",
    "         'Width': 0.04,\n",
    "         'Surface': Sg}\n",
    "## on a changué l'ordre car pour nous, l'isolation est à l'exterieur\n",
    "wall = pd.DataFrame.from_dict({'Layer_out': concrete,\n",
    "                               'Layer_in': insulation,\n",
    "                               'Glass': glass},\n",
    "                              orient='index')\n",
    "wall2 = pd.DataFrame.from_dict({'Layer_out': concrete,\n",
    "                               'Layer_in': insulation2,\n",
    "                               'Glass': glass},\n",
    "                              orient='index')\n",
    "#wall\n",
    "wall2"
   ]
  },
  {
   "cell_type": "markdown",
   "id": "83d4b5d6-b587-42dd-b02b-ceb4b233c927",
   "metadata": {},
   "source": [
    "## Propietées radiatives "
   ]
  },
  {
   "cell_type": "markdown",
   "id": "9f254e8c-177a-476f-9561-697b987488f7",
   "metadata": {},
   "source": [
    "Toutes les surfaces peuvent être définies par leurs caractéristiques radiatives, en particulier l'absorptivité $\\alpha$, qui correspond à la quantité d'énergie incidente sur la surface qui est absorbée, et l'émissivité $\\epsilon$, qui correspond à l'énergie émise par la surface à une certaine température, et la transmittance  $\\tau$, qui correspond à l'énergie incidente traversant une surface. \n",
    "- $\\epsilon$ emmisivité en ondes longues du béton (entre normal et rugueux) et du verre pyrex ;\n",
    "- $\\alpha_{w}$ Absorption du rayonnement solaire en ondes courtes  pour les surfaces blanches et lisses ;\n",
    "- $\\tau$ ondes courtes transmittance du verre avec $0.4 m$ d'epaisseur\n",
    "- $\\alpha_{g}$ onde courte absorptivité et transmittance d'une vitre bleue réfléchissante."
   ]
  },
  {
   "cell_type": "code",
   "execution_count": 5,
   "id": "28da675c-b375-4618-ac99-ef53e9c91435",
   "metadata": {},
   "outputs": [],
   "source": [
    "# radiative properties\n",
    "ε_wLW = 0.85    # long wave emmisivity: wall surface (concrete)\n",
    "ε_gLW = 0.90    # long wave emmisivity: glass pyrex\n",
    "α_wSW = 0.25    # short wave absortivity: white smooth surface\n",
    "α_gSW = 0.38    # short wave absortivity: reflective blue glass\n",
    "τ_gSW = 0.30    # short wave transmitance: reflective blue glass\n",
    "τ_wSW = 0.9\n",
    "α_wSW = 0.57    #absorbtance in short wave"
   ]
  },
  {
   "cell_type": "markdown",
   "id": "d2cac8f6-7e33-49d0-a59b-973e5f98fb65",
   "metadata": {},
   "source": [
    "La constante Stefan-Boltzmann :"
   ]
  },
  {
   "cell_type": "code",
   "execution_count": 6,
   "id": "b8b157ee-d63b-48e4-a31d-944b1629692d",
   "metadata": {},
   "outputs": [
    {
     "name": "stdout",
     "output_type": "stream",
     "text": [
      "σ = 5.67e-08 W/(m²⋅K⁴)\n"
     ]
    }
   ],
   "source": [
    "σ = 5.67e-8     # W/(m²⋅K⁴) Stefan-Bolzmann constant\n",
    "print(f'σ = {σ} W/(m²⋅K⁴)')"
   ]
  },
  {
   "cell_type": "markdown",
   "id": "2fa06d11-d624-4e4c-9053-239e41115084",
   "metadata": {},
   "source": [
    "## Réseau thermique"
   ]
  },
  {
   "cell_type": "markdown",
   "id": "05031318-a38f-461a-a83c-021fdf96d3c3",
   "metadata": {},
   "source": [
    "Pour la simulation du projet, nous avons utilisé le modèle de circuit thermique analogue à un système électrique illustré à la figure 3, pour modéliser les éléments et les apports énergétiques du bâtiment. \n",
    "Les réseaux (ou circuits) thermiques sont des graphes dirigés pondérés dans lesquels :\n",
    "- les **nœuds**  représentent les températures, $\\theta_i$, de points géométriques, de surfaces ou de volumes ;\n",
    "- les **branches**  orientées représentent les taux de flux de chaleur thermique, $q_j$, entre les nœuds de température."
   ]
  },
  {
   "cell_type": "markdown",
   "id": "25402f94-a205-49b7-a868-2b629be6f831",
   "metadata": {},
   "source": [
    "![basic_TC](./Figures/A01_Basic_thermal_circuit.svg)\n",
    "> Figure 3. Modèle du réseau thermique."
   ]
  },
  {
   "cell_type": "markdown",
   "id": "c87510d7-58d0-4c69-9113-75e2b9ce1819",
   "metadata": {},
   "source": [
    "Un réseau thermique possède au moins une branche orientée, $q$, et un noeud, $\\theta$.\n",
    "\n",
    "Dans un noeud, il y a une capacité thermique, $C_i$, (qui peut être positive ou nulle) et une source de flux de chaleur, $\\dot Q_i$, (qui peut être nulle).\n",
    "\n",
    "Sur une branche, il y a un conductane, $G_j > 0$, (qui doit être strictement positif) et une source de température, $T_j$ (qui peut être nulle).\n",
    "\n",
    "Le problème de l'analyse des circuits thermiques (ou le problème de la simulation, ou le problème direct) est :"
   ]
  },
  {
   "cell_type": "markdown",
   "id": "60817d00-3f51-4faf-a57c-b02a66842693",
   "metadata": {},
   "source": [
    "**Données d'éntrée** :\n",
    "- matrice d'incidence $A$ qui indique comment les nœuds sont connectés par des branches orientées ;\n",
    "- matrice diagonale de conductance $G$ ;\n",
    "- matrice diagonale de capacité $C$ ;\n",
    "- vecteur source de température $b$ ;\n",
    "- vecteur source de flux de chaleur $f$ ;\n",
    "\n",
    "**Données de sortie** :\n",
    "- le vecteur de température $\\theta$ \n",
    "- le vecteur de débit $q$.\n",
    "\n",
    "\n",
    "Pour le modèle illustré à la figure 1, le transfert de chaleur s'effectue :\n",
    "- à travers les murs (béton et isolation), \n",
    "- à travers la fenêtre en verre,\n",
    "- par la ventilation,\n",
    "- à partir de sources auxiliaires intérieures,\n",
    "- par le système de chauffage, de ventilation et de climatisation."
   ]
  },
  {
   "cell_type": "markdown",
   "id": "64116752-454b-455e-a7fb-4b6983c6c802",
   "metadata": {},
   "source": [
    "Le système HVAC est modélisé comme un régulateur proportionnel. Il y a un échange radiatif à ondes longues entre le mur et la fenêtre en verre. Les sources sont les suivantes\n",
    "- sources de température :\n",
    " - air atmosphérique extérieur ;\n",
    " - point de consigne de la température de l'air intérieur ;\n",
    "- sources de débit de chaleur :\n",
    " - rayonnement solaire sur les parois extérieures et intérieures ;\n",
    " - gains de chaleur auxiliaires dans la zone thermique."
   ]
  },
  {
   "cell_type": "markdown",
   "id": "216c83cd-c62a-40a4-aeca-1aa439a890b4",
   "metadata": {},
   "source": [
    "![heat_processes](./Figures/03_heat_process.svg)\n",
    "> Figure 4. Processus thermiques pour le bâtiment cubique illustré à la figure 1.\n",
    "\n",
    "![thermal_circuit](./Figures/03_therm_circ.svg)\n",
    "> Figure 5. Circuit thermique pour le bâtiment cubique illustré à la figure 1 et les processus thermiques illustrés à la figure 2. *Remarque :* la discrétisation de l'espace des murs est faite pour des raisons de simplicité."
   ]
  },
  {
   "cell_type": "markdown",
   "id": "166d27d5-8b6c-4665-8c39-57ca9ece407e",
   "metadata": {},
   "source": [
    "## Conductivités thermiques"
   ]
  },
  {
   "cell_type": "markdown",
   "id": "754eb4f2-9e2f-4b65-b834-8d384462707c",
   "metadata": {},
   "source": [
    "On travail avec les conductivités thermiques par conduction et convection, en considerant les conductivités interieurs et exterieurs. "
   ]
  },
  {
   "cell_type": "markdown",
   "id": "1e6a8892-14d2-44a7-b853-77247e1a3a33",
   "metadata": {},
   "source": [
    "### Conductance equivalent par convention et conduction"
   ]
  },
  {
   "cell_type": "markdown",
   "id": "7bd47150-fd69-436c-9924-4ca2b9d19700",
   "metadata": {},
   "source": [
    "#### Conduction\n",
    "Les conductances 1, 2, 3 et 4 du circuit thermique de la figure 3 modélisent le transfert de chaleur par conduction. Les conductances de conduction, en W/K, sont de la forme suivante :\n",
    "$$G_{cd} = \\frac{\\lambda}{w}S$$\n",
    "où :\n",
    "\n",
    "- $\\lambda$ - conductivité thermique ;\n",
    "- $w$ - largeur du matériau, m ;\n",
    "- $S$ - surface de la paroi, m²."
   ]
  },
  {
   "cell_type": "code",
   "execution_count": 7,
   "id": "0904b496-c190-4a18-8814-7438fd86fbb7",
   "metadata": {},
   "outputs": [
    {
     "data": {
      "text/html": [
       "<div>\n",
       "<style scoped>\n",
       "    .dataframe tbody tr th:only-of-type {\n",
       "        vertical-align: middle;\n",
       "    }\n",
       "\n",
       "    .dataframe tbody tr th {\n",
       "        vertical-align: top;\n",
       "    }\n",
       "\n",
       "    .dataframe thead th {\n",
       "        text-align: right;\n",
       "    }\n",
       "</style>\n",
       "<table border=\"1\" class=\"dataframe\">\n",
       "  <thead>\n",
       "    <tr style=\"text-align: right;\">\n",
       "      <th></th>\n",
       "      <th>Conductance</th>\n",
       "    </tr>\n",
       "  </thead>\n",
       "  <tbody>\n",
       "    <tr>\n",
       "      <th>Layer_out</th>\n",
       "      <td>995.2600</td>\n",
       "    </tr>\n",
       "    <tr>\n",
       "      <th>Layer_in</th>\n",
       "      <td>38.3886</td>\n",
       "    </tr>\n",
       "    <tr>\n",
       "      <th>Glass</th>\n",
       "      <td>1134.0000</td>\n",
       "    </tr>\n",
       "  </tbody>\n",
       "</table>\n",
       "</div>"
      ],
      "text/plain": [
       "           Conductance\n",
       "Layer_out     995.2600\n",
       "Layer_in       38.3886\n",
       "Glass        1134.0000"
      ]
     },
     "execution_count": 7,
     "metadata": {},
     "output_type": "execute_result"
    }
   ],
   "source": [
    "# conduction PE\n",
    "G_cd = wall['Conductivity'] / wall['Width'] * wall['Surface']\n",
    "pd.DataFrame(G_cd, columns=['Conductance'])"
   ]
  },
  {
   "cell_type": "markdown",
   "id": "7c9903c8-b0d7-4a7f-a99c-0445a75f7711",
   "metadata": {},
   "source": [
    "#### Convection\n",
    "Les conductances 0, 6 et 7 modélisent le transfert de chaleur par convection. Les conductances de convection, en W/K, sont de la forme :\n",
    "$$G_{cv} = {h S}$$\n",
    " où :\n",
    " \n",
    "- $h$ - est le coefficient de convection;\n",
    "- $S$ - surface de la paroi m²."
   ]
  },
  {
   "cell_type": "code",
   "execution_count": 8,
   "id": "969de241-97b6-4a68-8429-fdc3116509a7",
   "metadata": {},
   "outputs": [
    {
     "data": {
      "text/html": [
       "<div>\n",
       "<style scoped>\n",
       "    .dataframe tbody tr th:only-of-type {\n",
       "        vertical-align: middle;\n",
       "    }\n",
       "\n",
       "    .dataframe tbody tr th {\n",
       "        vertical-align: top;\n",
       "    }\n",
       "\n",
       "    .dataframe thead th {\n",
       "        text-align: right;\n",
       "    }\n",
       "</style>\n",
       "<table border=\"1\" class=\"dataframe\">\n",
       "  <thead>\n",
       "    <tr style=\"text-align: right;\">\n",
       "      <th></th>\n",
       "      <th>in</th>\n",
       "      <th>out</th>\n",
       "    </tr>\n",
       "  </thead>\n",
       "  <tbody>\n",
       "    <tr>\n",
       "      <th>h</th>\n",
       "      <td>8.0</td>\n",
       "      <td>25</td>\n",
       "    </tr>\n",
       "  </tbody>\n",
       "</table>\n",
       "</div>"
      ],
      "text/plain": [
       "    in  out\n",
       "h  8.0   25"
      ]
     },
     "execution_count": 8,
     "metadata": {},
     "output_type": "execute_result"
    }
   ],
   "source": [
    "#coeficients de convection utilisés \n",
    "h = pd.DataFrame([{'in': 8., 'out': 25}], index=['h'])  # W/(m²⋅K)\n",
    "h"
   ]
  },
  {
   "cell_type": "markdown",
   "id": "84be2e22-9710-403d-8b87-127edf2a61d2",
   "metadata": {},
   "source": [
    "Les conductances pour les murs et les verres sont :"
   ]
  },
  {
   "cell_type": "code",
   "execution_count": 9,
   "id": "d2cca7ed-29e2-47f3-8cfa-e18801f63500",
   "metadata": {},
   "outputs": [],
   "source": [
    "# convection PE\n",
    "Gw = h * wall['Surface'][0]     # wall\n",
    "Gg = h * wall['Surface'][2]     # glass"
   ]
  },
  {
   "cell_type": "markdown",
   "id": "61d8d66f-4b66-4f5b-b914-378ffbab7992",
   "metadata": {},
   "source": [
    "### Rayonnement à ondes longues : facteurs de vues à l'intérieur du bâtiment\n",
    "\n",
    "Les facteurs de vue, également appelés facteurs de forme ou coefficients de transfert radiatif, sont des coefficients utilisés dans l'analyse du transfert de chaleur par rayonnement entre des surfaces. Ces coefficients décrivent la fraction de rayonnement émise par une surface qui est reçue par une autre surface.\n",
    "Lorsque l'on traite des problèmes de transfert de chaleur par rayonnement entre des surfaces, il est essentiel de comprendre comment le rayonnement émis par une surface influe sur d'autres surfaces dans son environnement. Les facteurs de visualisation permettent de déterminer la quantité relative de rayonnement échangée entre différentes surfaces. \n",
    "\n",
    "Le facteur de vue entre le béton et le verre de notre système est : "
   ]
  },
  {
   "cell_type": "code",
   "execution_count": 10,
   "id": "2fbf4b54-b8c9-40c3-99cb-d7f178beb91f",
   "metadata": {},
   "outputs": [],
   "source": [
    "# view factor wall-glass\n",
    "Fwg = glass['Surface'] / concrete['Surface']"
   ]
  },
  {
   "cell_type": "markdown",
   "id": "7cf7d43a-85e9-4a10-b2ff-6ac1f742ca5a",
   "metadata": {},
   "source": [
    "Pour le calcul, on utilise la température moyenne $\\bar{T}$, mesurée en kelvins pour le calcul final de la conductance équivalente :\n",
    "\n",
    "$$\\bar{T} =\\sqrt[3]{ \\frac{(T_1^2 + T_2^2)(T_1 + T_2)}{4}}$$.\n",
    "\n",
    "L'évaluation de la température moyenne, $\\bar{T}$, nécessite les valeurs des températures de surface, $T_1$ et $T_2$. Une première estimation peut être utilisée (puis un processus itératif, pour une évaluation plus précise) mais pour ce projet on define un valeur fixe.\n",
    "\n",
    "Un processus de linéarisation est fait pour le calcul des conductances, en W/K, pour l'échange de chaleur radiatif qui sont :\n",
    "\n",
    "$$G_{1} = 4 \\sigma \\bar{T}^3 \\frac{\\varepsilon_1}{1 - \\varepsilon_1} S_1$$\n",
    "\n",
    "$$G_{1,2} = 4 \\sigma \\bar{T}^3 F_{1,2} S_1 = 4 \\sigma \\bar{T}^3 F_{2,1} S_2$$$$ G_{2} = 4 \\sigma \\bar{T}^3 F_{2,1} S_2$$\n",
    "\n",
    "$$G_{2} = 4 \\sigma \\bar{T}^3 \\frac{\\varepsilon_2}{1 - \\varepsilon_2} S_2$$\n",
    "\n",
    " \n"
   ]
  },
  {
   "cell_type": "code",
   "execution_count": 11,
   "id": "2aed63c7-2ddf-47b5-adcc-2cd43ad3f368",
   "metadata": {},
   "outputs": [],
   "source": [
    "# long wave radiation\n",
    "Tm = 20 + 273   # K, mean temp for radiative exchange\n",
    "\n",
    "GLW1 = 4 * σ * Tm**3 * ε_wLW / (1 - ε_wLW) * wall['Surface']['Layer_in']\n",
    "GLW12 = 4 * σ * Tm**3 * Fwg * wall['Surface']['Layer_in']\n",
    "GLW2 = 4 * σ * Tm**3 * ε_gLW / (1 - ε_gLW) * wall['Surface']['Glass']"
   ]
  },
  {
   "cell_type": "markdown",
   "id": "e54af1cd-af5c-4ce3-9dec-6116f4eca8b8",
   "metadata": {},
   "source": [
    "La conductance équivalente, en W/K, pour l'échange radiatif de chaleur à ondes longues entre le mur et la fenêtre en verre est la suivante :\n",
    "$$G = \\frac{1}{1/G_1 + 1/G_{1,2} + 1/G_2}$$"
   ]
  },
  {
   "cell_type": "code",
   "execution_count": 12,
   "id": "466ad4a5-9933-41f3-a19d-05d29f876c93",
   "metadata": {},
   "outputs": [
    {
     "data": {
      "text/plain": [
       "160.5435603400496"
      ]
     },
     "execution_count": 12,
     "metadata": {},
     "output_type": "execute_result"
    }
   ],
   "source": [
    "# Equivalent conductance for the radiative long-wave heat exchange\n",
    "GLW = 1 / (1 / GLW1 + 1 / GLW12 + 1 / GLW2)\n",
    "GLW"
   ]
  },
  {
   "cell_type": "markdown",
   "id": "02833ba3-ad82-48c6-a0a4-334226a1ade1",
   "metadata": {},
   "source": [
    "### Advection"
   ]
  },
  {
   "cell_type": "markdown",
   "id": "6d8b0c5c-7a97-4313-b3ed-0614d86629e7",
   "metadata": {},
   "source": [
    "L'advection est le processus d'échange d'air avec l'air extérieur qui est également modélisé comme une conductance. \n",
    "Le débit volumétrique de l'air, en m³/s, qui traverse le bâtiment est de :\n",
    "\n",
    "$$\\dot{V}_a = \\frac{\\mathrm{ACH}}{3600} V_a$$\n",
    "\n",
    "où :\n",
    "- $\\mathrm{ACH}$ changements d'air par heure est le taux d'infiltration d'air, 1/h ;\n",
    "- $3600$ - nombre de secondes dans une heure, s/h ;\n",
    "- $V_a$ - volume d'air dans la zone thermique, m³."
   ]
  },
  {
   "cell_type": "code",
   "execution_count": 13,
   "id": "986e4321-e621-4c25-8c9b-641ed30c6aff",
   "metadata": {},
   "outputs": [
    {
     "data": {
      "text/plain": [
       "488.824"
      ]
     },
     "execution_count": 13,
     "metadata": {},
     "output_type": "execute_result"
    }
   ],
   "source": [
    "# ventilation flow rate\n",
    "Va = (Sc+Sg)*l              # m³, volume of air\n",
    "ACH = 1                     # air changes per hour\n",
    "Va_dot = ACH / 3600 * Va    # m³/s, air infiltrations\n",
    "Va"
   ]
  },
  {
   "cell_type": "markdown",
   "id": "81716280-05d8-4b32-b345-f98157232199",
   "metadata": {},
   "source": [
    "Le débit net que le bâtiment reçoit par advection, c'est-à-dire en introduisant de l'air extérieur à la température $T_o$ et en extrayant de l'air intérieur à la température $\\theta_i$ par ventilation et/ou infiltration d'air, est :"
   ]
  },
  {
   "cell_type": "markdown",
   "id": "a670b02d-0f8b-432c-9952-06dba3b0fd49",
   "metadata": {},
   "source": [
    "$$q_v = \\dot{m}_a c_a (T_o - \\theta_i) = \\rho_a c_a \\dot{V}_a (T_o - \\theta_i)$$"
   ]
  },
  {
   "cell_type": "markdown",
   "id": "b71a6e45-4180-4305-9ed5-41d1fffad1e1",
   "metadata": {},
   "source": [
    "où :\n",
    "- $\\dot{m}_a$ est le débit massique de l'air, en kg/s ;\n",
    "- $\\dot{V}_a$ - débit volumétrique, m³/s ;\n",
    "- $c_a$ - capacité thermique spécifique de l'air, J/kg-K ;\n",
    "- $\\rho_a$ - densité de l'air, kg/m³ ;\n",
    "- $T_o$ - température de l'air extérieur, °C (notée en majuscule parce qu'il s'agit d'une *source de température* ou d'une *variable d'entrée*) ;\n",
    "- $\\theta_i$ - température de l'air intérieur, °C (notée en minuscule car il s'agit d'une *température dépendante* ou d'une *variable de sortie*)."
   ]
  },
  {
   "cell_type": "markdown",
   "id": "86ccae21-0409-4c5d-b5f8-fe37d0094938",
   "metadata": {},
   "source": [
    "Par conséquent, la conductance de l'advection par ventilation et/ou infiltration en W/K, est de :\n",
    "$$G_v = \\rho_a c_a \\dot{V}_a$$"
   ]
  },
  {
   "cell_type": "code",
   "execution_count": 14,
   "id": "fb32c153-c81e-4b89-acaf-8fd5c99d04ad",
   "metadata": {},
   "outputs": [
    {
     "data": {
      "text/plain": [
       "-3258.826666666667"
      ]
     },
     "execution_count": 14,
     "metadata": {},
     "output_type": "execute_result"
    }
   ],
   "source": [
    "T0 = 0\n",
    "# ventilation & advection\n",
    "Gv = air['Density'] * air['Specific heat'] * Va_dot\n",
    "q_av = Gv *(T0-20)\n",
    "q_av     ## advection flux for ventilation"
   ]
  },
  {
   "cell_type": "markdown",
   "id": "822e4d01-1eef-4cde-9d8f-8a973ebd89ae",
   "metadata": {},
   "source": [
    "### Contrôleur proportionnel"
   ]
  },
  {
   "cell_type": "markdown",
   "id": "e59ffdc2-29fc-49a1-989a-20b7b9e2954f",
   "metadata": {},
   "source": [
    "Dans la représentation la plus simple, le système HVAC peut être considéré comme un régulateur proportionnel qui ajuste le débit de chaleur $q_{HVAC}$ afin de contrôler la température intérieure $\\theta_i$ à sa valeur de consigne $T_{i,sp}$. Le débit de chaleur, en W, injecté par le système HVAC dans l'espace contrôlé est :\n",
    "$$ q_{HVAC} = K_p (T_{i, sp} - \\theta_i)$$\n",
    "\n",
    "où :\n",
    "- $K_p$ est le gain proportionnel, W/K ;\n",
    "- $T_{i, sp}$ - température intérieure point de consigne °C (mayuscule car donné).\n",
    "- $\\theta_i$ - température intérieure, °C (minuscule car sortie)\n",
    "\n",
    "Cette équation montre que le régulateur proportionnel peut être modélisé par une source de température, $T_{i, sp}$, et une conductance, $K_p$. Si le gain du régulateur tend vers :\n",
    "- l'infini, $K_p \\rightarrow \\infty$, alors le régulateur est parfait, $\\theta_i \\rightarrow T_{i, sp}$.\n",
    "- zéro, $K_p \\rightarrow 0$, le régulateur n'agit pas et le bâtiment fonctionne librement, c'est-à-dire $q_{HVAC} = 0$."
   ]
  },
  {
   "cell_type": "code",
   "execution_count": 15,
   "id": "4bcae62d-0474-4d2c-8c62-ec622b2cf06a",
   "metadata": {},
   "outputs": [],
   "source": [
    "# P-controler gain\n",
    "Kp = 0 ### mettre très grand gain pour controler ex. 1e5 \n",
    "# correspond à conductance G_11"
   ]
  },
  {
   "cell_type": "markdown",
   "id": "518258b5-9e93-4b27-89c1-12d5a83a02b5",
   "metadata": {},
   "source": [
    "### Conductances en série et/ou en parallèle\n",
    "Si les conductances sont connectées à des nœuds de température qui n'ont pas de source de capacité et/ou de débit, les conductances peuvent être considérées comme en série ou en parallèle (en fonction de la connexion). Considérons, par exemple, le côté extérieur de la fenêtre en verre (figure 3) : la conductance de convection extérieure et la conductance de conduction (correspondant à la moitié de la largeur de la fenêtre) sont en série :\n",
    "\n",
    "$$ G_{gs} = \\frac{1}{1/G_{g,cv.out } + 1/(2 G_{g,cd})} = \n",
    "\\frac{1}{\\frac{1}{h_{out} S_g} + \\frac{w / 2}{\\lambda S_g}}\n",
    "$$"
   ]
  },
  {
   "cell_type": "code",
   "execution_count": 16,
   "id": "42ff6eec-9a52-4fa2-a98f-ea2e73526800",
   "metadata": {},
   "outputs": [
    {
     "data": {
      "text/plain": [
       "596.8421052631579"
      ]
     },
     "execution_count": 16,
     "metadata": {},
     "output_type": "execute_result"
    }
   ],
   "source": [
    "# glass: convection outdoor & conduction PE\n",
    "Ggs = float(1 / (1 / Gg.loc['h', 'out'] + 1 / (2 * G_cd['Glass'])))\n",
    "Ggs"
   ]
  },
  {
   "cell_type": "markdown",
   "id": "473f90c9-2496-4055-9787-4585ffb5a833",
   "metadata": {},
   "source": [
    "### Matrice de capacités : Capacités thermiques"
   ]
  },
  {
   "cell_type": "markdown",
   "id": "691ce762-b282-41e6-a242-d1949ed4caef",
   "metadata": {},
   "source": [
    "#### Murs\n",
    "Les capacités thermiques du système servent à modéliser l'inertie des matériaux du revêtement.\n",
    "Les capacités thermiques de la paroi, en J/kg, sont :\n",
    "\n",
    "$$C_w= m_w c_w= \\rho_w c_w w_w S_w$$\n",
    "\n",
    "où :\n",
    "- $m_w = \\rho_w w_w S_w$ est la masse de la paroi, en kg ;\n",
    "- $c_w$ - capacité thermique spécifique, J/(kg⋅K) ;\n",
    "- $\\rho_w$ - densité, kg/m³ ;\n",
    "- $w_w$ - largeur du mur, m ;\n",
    "- $S_w$ - surface de la paroi, m²."
   ]
  },
  {
   "cell_type": "code",
   "execution_count": 17,
   "id": "e82269b6-c723-41d2-9c24-b9cb49430773",
   "metadata": {},
   "outputs": [
    {
     "data": {
      "text/plain": [
       "Layer_out    57554464.0\n",
       "Layer_in      1133885.5\n",
       "Glass         2430000.0\n",
       "dtype: float64"
      ]
     },
     "execution_count": 17,
     "metadata": {},
     "output_type": "execute_result"
    }
   ],
   "source": [
    "C = wall['Density'] * wall['Specific heat'] * wall['Surface'] * wall['Width']\n",
    "C"
   ]
  },
  {
   "cell_type": "markdown",
   "id": "a4fe4b31-624c-472a-9a84-463d176b6598",
   "metadata": {},
   "source": [
    "#### Air\n",
    "De même, la capacité thermique de l'air, en J/kg, est :\n",
    "\n",
    "\n",
    "$$C_a = m_a c_a = \\rho_a c_a V_a$$.\n",
    "\n",
    "\n",
    "où :\n",
    "- $m_a = \\rho_a V_a$ est la masse de l'air, en kg ;\n",
    "- $\\rho_w$ - densité de l'air, kg/m³ ;\n",
    "- $c_a$ - capacité thermique spécifique de l'air, J/(kg⋅K) ;\n",
    "- $V_a$ - volume de l'air dans la zone thermique, m³."
   ]
  },
  {
   "cell_type": "code",
   "execution_count": 18,
   "id": "b73356e4-acfd-401c-8cce-82b48c071dff",
   "metadata": {},
   "outputs": [
    {
     "data": {
      "text/html": [
       "<div>\n",
       "<style scoped>\n",
       "    .dataframe tbody tr th:only-of-type {\n",
       "        vertical-align: middle;\n",
       "    }\n",
       "\n",
       "    .dataframe tbody tr th {\n",
       "        vertical-align: top;\n",
       "    }\n",
       "\n",
       "    .dataframe thead th {\n",
       "        text-align: right;\n",
       "    }\n",
       "</style>\n",
       "<table border=\"1\" class=\"dataframe\">\n",
       "  <thead>\n",
       "    <tr style=\"text-align: right;\">\n",
       "      <th></th>\n",
       "      <th>Capacity</th>\n",
       "    </tr>\n",
       "  </thead>\n",
       "  <tbody>\n",
       "    <tr>\n",
       "      <th>Layer_out</th>\n",
       "      <td>57554464.0</td>\n",
       "    </tr>\n",
       "    <tr>\n",
       "      <th>Layer_in</th>\n",
       "      <td>1133885.5</td>\n",
       "    </tr>\n",
       "    <tr>\n",
       "      <th>Glass</th>\n",
       "      <td>2430000.0</td>\n",
       "    </tr>\n",
       "    <tr>\n",
       "      <th>Air</th>\n",
       "      <td>586588.8</td>\n",
       "    </tr>\n",
       "  </tbody>\n",
       "</table>\n",
       "</div>"
      ],
      "text/plain": [
       "             Capacity\n",
       "Layer_out  57554464.0\n",
       "Layer_in    1133885.5\n",
       "Glass       2430000.0\n",
       "Air          586588.8"
      ]
     },
     "execution_count": 18,
     "metadata": {},
     "output_type": "execute_result"
    }
   ],
   "source": [
    "C['Air'] = air['Density'] * air['Specific heat'] * Va\n",
    "pd.DataFrame(C, columns=['Capacity'])"
   ]
  },
  {
   "cell_type": "markdown",
   "id": "6a117a01-aa2f-42be-ab7d-60429501c14f",
   "metadata": {},
   "source": [
    "### Source de temperatures \n",
    "Les sources de température modélisent des températures qui varient indépendamment de ce qui se passe dans le circuit thématique ; ce sont des entrées du modèle physique. En général, les sources de température sont\n",
    "- la température de l'air extérieur et du sol\n",
    "- la température des espaces adjacents dont la température est contrôlée ;\n",
    "- la température de consigne."
   ]
  },
  {
   "cell_type": "markdown",
   "id": "4ef9eb5e-7a4e-4155-800e-1b4bbc47e655",
   "metadata": {},
   "source": [
    "On utilise pour une temperature exterieur fixé parce que on est dans la simulation statique."
   ]
  },
  {
   "cell_type": "markdown",
   "id": "8128601d-cb6c-4c2e-bd28-a9024d4f97be",
   "metadata": {},
   "source": [
    "#### Température de consigne\n",
    "\n",
    "La température de consigne ne dépend pas des processus de transfert de chaleur de la zone thermique analysée. Si le système HAVC peut fournir le débit de chaleur :\n",
    "\n",
    "$$ q_{HVAC} = K_p (T_{i, sp} - \\theta_i)$$\n",
    "\n",
    "où\n",
    "- $K_p$ est le gain proportionnel, W/K ;\n",
    "- $T_{i, sp}$ - température intérieure point de consigne, °C ;\n",
    "- $\\theta_i$ - température intérieure, °C,\n",
    "\n",
    "le point de consigne de la température intérieure, $T_{i, sp}$, peut être modélisé par une source de température."
   ]
  },
  {
   "cell_type": "markdown",
   "id": "15042779-ff9c-46cd-81d5-586f309ea58a",
   "metadata": {},
   "source": [
    "###  Sources de débit de chaleur\n",
    "Les sources de débit de chaleur modélisent des débits qui varient en fonction de ce qui se passe dans le circuit thématique. Ce sont des entrées du modèle physique. En général, les sources de flux de chaleur sont\n",
    "- le rayonnement solaire absorbé par les parois ;\n",
    "- les sources auxiliaires internes."
   ]
  },
  {
   "cell_type": "markdown",
   "id": "e2175c94-35a5-4c4e-ab53-f597d477c3b0",
   "metadata": {},
   "source": [
    "#### Chaleur absorbé par les murs "
   ]
  },
  {
   "cell_type": "markdown",
   "id": "d6df5eee-75d8-4133-a725-989385f55259",
   "metadata": {},
   "source": [
    "##### Mur exterieur"
   ]
  },
  {
   "cell_type": "markdown",
   "id": "9fb9d090-c0da-4196-96ab-7cab4122175b",
   "metadata": {},
   "source": [
    "Le rayonnement absorbé par la surface extérieure du mur est :\n",
    "\n",
    "$$\\Phi_o = \\alpha_{w,SW} S_w E_{tot}$$.\n",
    "\n",
    "##### Mur interieur\n",
    "\n",
    "La radiation absorbé pour les murs interiurs est modélisé par : \n",
    "\n",
    "$$\\Phi_o = \\tau_{g,SW} \\alpha_{w,SW} S_g E_{tot}$$\n",
    "\n",
    "\n",
    "Pour les calculs de flux de chaleur, nous utilisons les coefficients $\\alpha$, $\\epsilon$ et $\\tau$ et la quantité d'irradiation sur le site, nous appelons donc les résultats de la partie météorologique précédente : "
   ]
  },
  {
   "cell_type": "code",
   "execution_count": 19,
   "id": "2249d78c-2fde-4e93-9774-3f59487c60af",
   "metadata": {},
   "outputs": [
    {
     "data": {
      "image/png": "[encoded data removed]",
      "text/plain": [
       "<Figure size 432x288 with 1 Axes>"
      ]
     },
     "metadata": {
      "needs_background": "light"
     },
     "output_type": "display_data"
    },
    {
     "data": {
      "image/png": "[encoded data removed]",
      "text/plain": [
       "<Figure size 432x288 with 1 Axes>"
      ]
     },
     "metadata": {
      "needs_background": "light"
     },
     "output_type": "display_data"
    },
    {
     "data": {
      "image/png": "[encoded data removed]",
      "text/plain": [
       "<Figure size 432x288 with 1 Axes>"
      ]
     },
     "metadata": {
      "needs_background": "light"
     },
     "output_type": "display_data"
    },
    {
     "data": {
      "image/png": "[encoded data removed]",
      "text/plain": [
       "<Figure size 432x288 with 1 Axes>"
      ]
     },
     "metadata": {
      "needs_background": "light"
     },
     "output_type": "display_data"
    },
    {
     "data": {
      "image/png": "[encoded data removed]",
      "text/plain": [
       "<Figure size 432x288 with 1 Axes>"
      ]
     },
     "metadata": {
      "needs_background": "light"
     },
     "output_type": "display_data"
    },
    {
     "data": {
      "image/png": "[encoded data removed]",
      "text/plain": [
       "<Figure size 432x288 with 1 Axes>"
      ]
     },
     "metadata": {
      "needs_background": "light"
     },
     "output_type": "display_data"
    }
   ],
   "source": [
    "%run \"Donnes_meteo.ipynb\""
   ]
  },
  {
   "cell_type": "code",
   "execution_count": 20,
   "id": "7df1b24d-be91-4fbc-8082-30cc99cdc049",
   "metadata": {},
   "outputs": [],
   "source": [
    " # [Φo, Qa, Φi , Φa] pour l'été\n",
    "P = 30          # occupation \n",
    "Φoe = α_wSW*Sc*mean_ete['dir_n_rad']  #solaire radiation murs\n",
    "Qae = 70*P       #flux de chaleur de une personne fois l'occupation\n",
    "Φae = α_gSW*Sg*mean_ete['dir_n_rad']"
   ]
  },
  {
   "cell_type": "code",
   "execution_count": 21,
   "id": "3409770c-7366-4ea1-a146-601065639c52",
   "metadata": {},
   "outputs": [],
   "source": [
    "# solar radiation absorbed by the indoor surface of the wall\n",
    "Φie = τ_gSW * α_wSW * Sg * mean_ete['dir_n_rad']"
   ]
  },
  {
   "cell_type": "markdown",
   "id": "a716c4a7-3df2-4d16-989c-26e3f7a9c198",
   "metadata": {},
   "source": [
    "**Les flux de chaleur pour l'hiver :**"
   ]
  },
  {
   "cell_type": "code",
   "execution_count": 22,
   "id": "039ea4a4-a88c-495b-ac5b-5aa7f3206fbf",
   "metadata": {},
   "outputs": [],
   "source": [
    " # [Φo, Qa, Φi , Φa] pour l'hiver\n",
    "P = 30          # occupation \n",
    "Φoh = α_wSW*Sc*mean_hiver['dir_n_rad']  #solaire radiation murs\n",
    "Qah = 58*P       #flux de chaleur de une personne fois l'occupation\n",
    "Φah = α_gSW*Sg*mean_hiver['dir_n_rad']\n",
    "# solar radiation absorbed by the indoor surface of the wall\n",
    "Φih = τ_gSW * α_wSW * Sg * mean_hiver['dir_n_rad']"
   ]
  },
  {
   "cell_type": "markdown",
   "id": "0be927a8-c9b5-483a-bd1e-44790e4ba4fb",
   "metadata": {},
   "source": [
    "##### Sources internes\n",
    "\n",
    "Pour les occupations, nous considérons une occupation moyenne de 30 personnes émettant chacune 58 W/m² de flux de couleur et obtenons :\n",
    "\n",
    "$Q_a = 70*P $\n",
    "\n",
    "## Matrice d'indices A\n",
    "\n",
    "La matrice A définit l'interaction entre les flux de chaleur des différents nœuds. Lorsque le nœud a un flux entrant, l'indice est positif et lorsque l'indice est négatif, on considère que le flux quitte le nœud. S'il n'y a pas de flux dans une direction donnée, l'indice est égal à 0."
   ]
  },
  {
   "cell_type": "code",
   "execution_count": 23,
   "id": "0c2340ca-00fe-4d83-85bf-18109719023e",
   "metadata": {},
   "outputs": [],
   "source": [
    "A = np.zeros([12, 8])       # n° of branches X n° of nodes\n",
    "A[0, 0] = 1                 # branch 0: -> node 0\n",
    "A[1, 0], A[1, 1] = -1, 1    # branch 1: node 0 -> node 1\n",
    "A[2, 1], A[2, 2] = -1, 1    # branch 2: node 1 -> node 2\n",
    "A[3, 2], A[3, 3] = -1, 1    # branch 3: node 2 -> node 3\n",
    "A[4, 3], A[4, 4] = -1, 1    # branch 4: node 3 -> node 4\n",
    "A[5, 4], A[5, 5] = -1, 1    # branch 5: node 4 -> node 5\n",
    "A[6, 4], A[6, 6] = -1, 1    # branch 6: node 4 -> node 6\n",
    "A[7, 5], A[7, 6] = -1, 1    # branch 7: node 5 -> node 6\n",
    "A[8, 7] = 1                 # branch 8: -> node 7\n",
    "A[9, 5], A[9, 7] = 1, -1    # branch 9: node 5 -> node 7\n",
    "A[10, 6] = 1                # branch 10: -> node 6\n",
    "A[11, 6] = 1                # branch 11: -> node 6\n",
    "\n",
    "# np.set_printoptions(suppress=False)\n",
    "# pd.DataFrame(A)"
   ]
  },
  {
   "cell_type": "markdown",
   "id": "56c6c748-ea2d-492a-a2ed-5f7886b4f4e7",
   "metadata": {},
   "source": [
    "## Matrice de Conductances \n",
    "\n",
    "La matrice des conductances est définie comme une matrice diagonnalle pour chaque conductance du système."
   ]
  },
  {
   "cell_type": "code",
   "execution_count": 24,
   "id": "2c7bd02f-1930-475e-820c-bbf45bd097d8",
   "metadata": {},
   "outputs": [
    {
     "data": {
      "text/html": [
       "<div>\n",
       "<style scoped>\n",
       "    .dataframe tbody tr th:only-of-type {\n",
       "        vertical-align: middle;\n",
       "    }\n",
       "\n",
       "    .dataframe tbody tr th {\n",
       "        vertical-align: top;\n",
       "    }\n",
       "\n",
       "    .dataframe thead th {\n",
       "        text-align: right;\n",
       "    }\n",
       "</style>\n",
       "<table border=\"1\" class=\"dataframe\">\n",
       "  <thead>\n",
       "    <tr style=\"text-align: right;\">\n",
       "      <th></th>\n",
       "      <th>0</th>\n",
       "      <th>1</th>\n",
       "      <th>2</th>\n",
       "      <th>3</th>\n",
       "      <th>4</th>\n",
       "      <th>5</th>\n",
       "      <th>6</th>\n",
       "      <th>7</th>\n",
       "      <th>8</th>\n",
       "      <th>9</th>\n",
       "      <th>10</th>\n",
       "      <th>11</th>\n",
       "    </tr>\n",
       "  </thead>\n",
       "  <tbody>\n",
       "    <tr>\n",
       "      <th>0</th>\n",
       "      <td>3554.5</td>\n",
       "      <td>0.0</td>\n",
       "      <td>0.0</td>\n",
       "      <td>0.0</td>\n",
       "      <td>0.0</td>\n",
       "      <td>0.0</td>\n",
       "      <td>0.0</td>\n",
       "      <td>0.0</td>\n",
       "      <td>0.0</td>\n",
       "      <td>0.0</td>\n",
       "      <td>0.0</td>\n",
       "      <td>0.0</td>\n",
       "    </tr>\n",
       "    <tr>\n",
       "      <th>1</th>\n",
       "      <td>0.0</td>\n",
       "      <td>1990.5</td>\n",
       "      <td>0.0</td>\n",
       "      <td>0.0</td>\n",
       "      <td>0.0</td>\n",
       "      <td>0.0</td>\n",
       "      <td>0.0</td>\n",
       "      <td>0.0</td>\n",
       "      <td>0.0</td>\n",
       "      <td>0.0</td>\n",
       "      <td>0.0</td>\n",
       "      <td>0.0</td>\n",
       "    </tr>\n",
       "    <tr>\n",
       "      <th>2</th>\n",
       "      <td>0.0</td>\n",
       "      <td>0.0</td>\n",
       "      <td>1990.5</td>\n",
       "      <td>0.0</td>\n",
       "      <td>0.0</td>\n",
       "      <td>0.0</td>\n",
       "      <td>0.0</td>\n",
       "      <td>0.0</td>\n",
       "      <td>0.0</td>\n",
       "      <td>0.0</td>\n",
       "      <td>0.0</td>\n",
       "      <td>0.0</td>\n",
       "    </tr>\n",
       "    <tr>\n",
       "      <th>3</th>\n",
       "      <td>0.0</td>\n",
       "      <td>0.0</td>\n",
       "      <td>0.0</td>\n",
       "      <td>76.8</td>\n",
       "      <td>0.0</td>\n",
       "      <td>0.0</td>\n",
       "      <td>0.0</td>\n",
       "      <td>0.0</td>\n",
       "      <td>0.0</td>\n",
       "      <td>0.0</td>\n",
       "      <td>0.0</td>\n",
       "      <td>0.0</td>\n",
       "    </tr>\n",
       "    <tr>\n",
       "      <th>4</th>\n",
       "      <td>0.0</td>\n",
       "      <td>0.0</td>\n",
       "      <td>0.0</td>\n",
       "      <td>0.0</td>\n",
       "      <td>76.8</td>\n",
       "      <td>0.0</td>\n",
       "      <td>0.0</td>\n",
       "      <td>0.0</td>\n",
       "      <td>0.0</td>\n",
       "      <td>0.0</td>\n",
       "      <td>0.0</td>\n",
       "      <td>0.0</td>\n",
       "    </tr>\n",
       "    <tr>\n",
       "      <th>5</th>\n",
       "      <td>0.0</td>\n",
       "      <td>0.0</td>\n",
       "      <td>0.0</td>\n",
       "      <td>0.0</td>\n",
       "      <td>0.0</td>\n",
       "      <td>160.5</td>\n",
       "      <td>0.0</td>\n",
       "      <td>0.0</td>\n",
       "      <td>0.0</td>\n",
       "      <td>0.0</td>\n",
       "      <td>0.0</td>\n",
       "      <td>0.0</td>\n",
       "    </tr>\n",
       "    <tr>\n",
       "      <th>6</th>\n",
       "      <td>0.0</td>\n",
       "      <td>0.0</td>\n",
       "      <td>0.0</td>\n",
       "      <td>0.0</td>\n",
       "      <td>0.0</td>\n",
       "      <td>0.0</td>\n",
       "      <td>1137.4</td>\n",
       "      <td>0.0</td>\n",
       "      <td>0.0</td>\n",
       "      <td>0.0</td>\n",
       "      <td>0.0</td>\n",
       "      <td>0.0</td>\n",
       "    </tr>\n",
       "    <tr>\n",
       "      <th>7</th>\n",
       "      <td>0.0</td>\n",
       "      <td>0.0</td>\n",
       "      <td>0.0</td>\n",
       "      <td>0.0</td>\n",
       "      <td>0.0</td>\n",
       "      <td>0.0</td>\n",
       "      <td>0.0</td>\n",
       "      <td>259.2</td>\n",
       "      <td>0.0</td>\n",
       "      <td>0.0</td>\n",
       "      <td>0.0</td>\n",
       "      <td>0.0</td>\n",
       "    </tr>\n",
       "    <tr>\n",
       "      <th>8</th>\n",
       "      <td>0.0</td>\n",
       "      <td>0.0</td>\n",
       "      <td>0.0</td>\n",
       "      <td>0.0</td>\n",
       "      <td>0.0</td>\n",
       "      <td>0.0</td>\n",
       "      <td>0.0</td>\n",
       "      <td>0.0</td>\n",
       "      <td>596.8</td>\n",
       "      <td>0.0</td>\n",
       "      <td>0.0</td>\n",
       "      <td>0.0</td>\n",
       "    </tr>\n",
       "    <tr>\n",
       "      <th>9</th>\n",
       "      <td>0.0</td>\n",
       "      <td>0.0</td>\n",
       "      <td>0.0</td>\n",
       "      <td>0.0</td>\n",
       "      <td>0.0</td>\n",
       "      <td>0.0</td>\n",
       "      <td>0.0</td>\n",
       "      <td>0.0</td>\n",
       "      <td>0.0</td>\n",
       "      <td>2268.0</td>\n",
       "      <td>0.0</td>\n",
       "      <td>0.0</td>\n",
       "    </tr>\n",
       "    <tr>\n",
       "      <th>10</th>\n",
       "      <td>0.0</td>\n",
       "      <td>0.0</td>\n",
       "      <td>0.0</td>\n",
       "      <td>0.0</td>\n",
       "      <td>0.0</td>\n",
       "      <td>0.0</td>\n",
       "      <td>0.0</td>\n",
       "      <td>0.0</td>\n",
       "      <td>0.0</td>\n",
       "      <td>0.0</td>\n",
       "      <td>162.9</td>\n",
       "      <td>0.0</td>\n",
       "    </tr>\n",
       "    <tr>\n",
       "      <th>11</th>\n",
       "      <td>0.0</td>\n",
       "      <td>0.0</td>\n",
       "      <td>0.0</td>\n",
       "      <td>0.0</td>\n",
       "      <td>0.0</td>\n",
       "      <td>0.0</td>\n",
       "      <td>0.0</td>\n",
       "      <td>0.0</td>\n",
       "      <td>0.0</td>\n",
       "      <td>0.0</td>\n",
       "      <td>0.0</td>\n",
       "      <td>0.0</td>\n",
       "    </tr>\n",
       "  </tbody>\n",
       "</table>\n",
       "</div>"
      ],
      "text/plain": [
       "        0       1       2     3     4      5       6      7      8       9   \\\n",
       "0   3554.5     0.0     0.0   0.0   0.0    0.0     0.0    0.0    0.0     0.0   \n",
       "1      0.0  1990.5     0.0   0.0   0.0    0.0     0.0    0.0    0.0     0.0   \n",
       "2      0.0     0.0  1990.5   0.0   0.0    0.0     0.0    0.0    0.0     0.0   \n",
       "3      0.0     0.0     0.0  76.8   0.0    0.0     0.0    0.0    0.0     0.0   \n",
       "4      0.0     0.0     0.0   0.0  76.8    0.0     0.0    0.0    0.0     0.0   \n",
       "5      0.0     0.0     0.0   0.0   0.0  160.5     0.0    0.0    0.0     0.0   \n",
       "6      0.0     0.0     0.0   0.0   0.0    0.0  1137.4    0.0    0.0     0.0   \n",
       "7      0.0     0.0     0.0   0.0   0.0    0.0     0.0  259.2    0.0     0.0   \n",
       "8      0.0     0.0     0.0   0.0   0.0    0.0     0.0    0.0  596.8     0.0   \n",
       "9      0.0     0.0     0.0   0.0   0.0    0.0     0.0    0.0    0.0  2268.0   \n",
       "10     0.0     0.0     0.0   0.0   0.0    0.0     0.0    0.0    0.0     0.0   \n",
       "11     0.0     0.0     0.0   0.0   0.0    0.0     0.0    0.0    0.0     0.0   \n",
       "\n",
       "       10   11  \n",
       "0     0.0  0.0  \n",
       "1     0.0  0.0  \n",
       "2     0.0  0.0  \n",
       "3     0.0  0.0  \n",
       "4     0.0  0.0  \n",
       "5     0.0  0.0  \n",
       "6     0.0  0.0  \n",
       "7     0.0  0.0  \n",
       "8     0.0  0.0  \n",
       "9     0.0  0.0  \n",
       "10  162.9  0.0  \n",
       "11    0.0  0.0  "
      ]
     },
     "execution_count": 24,
     "metadata": {},
     "output_type": "execute_result"
    }
   ],
   "source": [
    "G = np.diag(np.hstack(\n",
    "    [Gw['out'],\n",
    "    2 * G_cd['Layer_out'], 2 * G_cd['Layer_out'],\n",
    "    2 * G_cd['Layer_in'], 2 * G_cd['Layer_in'],\n",
    "    GLW,\n",
    "    Gw['in'],\n",
    "    Gg['in'],\n",
    "    Ggs,\n",
    "    2 * G_cd['Glass'],\n",
    "    Gv,\n",
    "    Kp]))\n",
    "\n",
    "np.set_printoptions(precision=3, threshold=16, suppress=True)\n",
    "pd.set_option(\"display.precision\", 1)\n",
    "pd.DataFrame(G)"
   ]
  },
  {
   "cell_type": "code",
   "execution_count": 25,
   "id": "1d234f1f-b46d-487e-bcd7-c23301c45815",
   "metadata": {},
   "outputs": [],
   "source": [
    "neglect_air_glass = False\n",
    "\n",
    "if neglect_air_glass:\n",
    "    C = np.diag([0, C['Layer_out'], 0, C['Layer_in'], 0, 0,\n",
    "                 0, 0])\n",
    "else:\n",
    "    C = np.diag([0, C['Layer_out'], 0, C['Layer_in'], 0, 0,\n",
    "                 C['Air'], C['Glass']])\n",
    "\n",
    "# pd.set_option(\"display.precision\", 3)\n",
    "# pd.DataFrame(C)"
   ]
  },
  {
   "cell_type": "markdown",
   "id": "59072253-5837-4a59-9686-94d417bf65f1",
   "metadata": {},
   "source": [
    "## Vecteurs de sources de température \n",
    "La taille du vecteur source de température est la même que le nombre de conductances mais nous ne définissons les valeurs qu'aux nœuds qui ont une source telle que la température extérieure ou la température de consigne correspondant aux nœuds $0, 8, 10$ et $11$."
   ]
  },
  {
   "cell_type": "code",
   "execution_count": 26,
   "id": "09913e5d-ebae-4b2f-a683-0e7c4fe5983d",
   "metadata": {},
   "outputs": [
    {
     "name": "stdout",
     "output_type": "stream",
     "text": [
      "b =  [10.  0.  0.  0.  0.  0.  0.  0. 10.  0. 10. 20.]\n"
     ]
    }
   ],
   "source": [
    "b = np.zeros(12)        # branches\n",
    "b[[0, 8, 10, 11]] = 1   # branches with temperature sources       # temperature sources\n",
    "b[[0, 8, 10]] = 10      # outdoor temperature\n",
    "b[[11]] = 20           # indoor set-point temperature\n",
    "print(f'b = ', b)"
   ]
  },
  {
   "cell_type": "markdown",
   "id": "223185f1-b73f-497b-a71f-5766cb8fb093",
   "metadata": {},
   "source": [
    "## Vecteurs pour les sources de chaleur \n",
    "La taille de la matrice des sources de chaleur est égale au nombre de nœuds, mais seuls les nœuds avec une source de chaleur sont définis."
   ]
  },
  {
   "cell_type": "code",
   "execution_count": 34,
   "id": "797837b7-e3d4-449d-8846-247bef861bbe",
   "metadata": {},
   "outputs": [
    {
     "name": "stdout",
     "output_type": "stream",
     "text": [
      "f =  [1. 0. 0. 0. 1. 0. 1. 1.]\n"
     ]
    }
   ],
   "source": [
    "f = np.zeros(8)         # nodes\n",
    "f[[0, 4, 6, 7]] = 1     # nodes with heat-flow sources\n",
    "print(f'f = ', f)\n",
    "\n"
   ]
  },
  {
   "cell_type": "markdown",
   "id": "08ee701e-0128-46be-97bf-175e66637a90",
   "metadata": {},
   "source": [
    "## Vecteur de sortie\n",
    "\n",
    "Nous définissons le vecteur qui donne les valeurs de température aux nœuds, mais nous ne nous intéressons qu'à la température intérieure du nœud 6."
   ]
  },
  {
   "cell_type": "code",
   "execution_count": 35,
   "id": "9e527218-89bb-4c06-a914-52d81b347159",
   "metadata": {},
   "outputs": [
    {
     "name": "stdout",
     "output_type": "stream",
     "text": [
      "y =  [0. 0. 0. 0. 0. 0. 1. 0.]\n"
     ]
    }
   ],
   "source": [
    "y = np.zeros(8)         # nodes\n",
    "y[[6]] = 1              # nodes (temperatures) of interest\n",
    "print(f'y = ', y)\n"
   ]
  },
  {
   "cell_type": "markdown",
   "id": "84509162-a0a0-4c93-81d6-36d51b56ab91",
   "metadata": {},
   "source": [
    "## Représentation de l'espace d'état\n",
    "Pour la simulation dynamique, nous devons discrétiser le système afin d'obtenir les valeurs d'état qui décrivent la variation du système. Pour le faire, le système DAE \n",
    "$$C \\dot{\\theta} = -(A^T G A) \\theta + A^T G b + f$$\n",
    "peut être transformé dans une répresentation spatiel et d'état : \n",
    "$$\\left\\{\\begin{array}{rr}\n",
    "\\dot{\\theta}_s=A_s \\theta_s + B_s u\\\\ \n",
    "y = C_s \\theta_s + D_s u\n",
    "\\end{array}\\right.$$"
   ]
  },
  {
   "cell_type": "code",
   "execution_count": 36,
   "id": "de7c51fc-f3fe-4eff-875d-2edb953df13d",
   "metadata": {},
   "outputs": [],
   "source": [
    "[As, Bs, Cs, Ds] = dm4bem.tc2ss(A, G, C, b, f, y)\n",
    "θs = ['θ1', 'θ3', 'θ6', 'θ7']       # state temperature nodes\n",
    "uT = ['q0', 'q8', 'q10', 'q11']     # temperature sources\n",
    "uQ = ['θ0', 'θ4', 'θ6', 'θ7']       # flow sources\n",
    "u = uT + uQ                         # inputs\n",
    "y = ['θ6']                          # output"
   ]
  },
  {
   "cell_type": "markdown",
   "id": "191f3638-b1a5-4359-b52a-1e7f25f21f27",
   "metadata": {},
   "source": [
    "Les résultats de cette section seront utilisés dans les sections suivantes du rapport."
   ]
  },
  {
   "cell_type": "code",
   "execution_count": 30,
   "id": "fffb62c0-4b0d-4a3f-9311-cb9410fde031",
   "metadata": {},
   "outputs": [],
   "source": [
    "#pd.DataFrame(As, index=θs, columns=θs)"
   ]
  },
  {
   "cell_type": "code",
   "execution_count": 31,
   "id": "03c527e0-b852-4d64-b014-6a5814c9f15e",
   "metadata": {},
   "outputs": [],
   "source": [
    "#pd.DataFrame(Bs, index=θs, columns=u)"
   ]
  },
  {
   "cell_type": "code",
   "execution_count": 32,
   "id": "be73df74-8d8a-4b7c-a681-b941e2c9df2a",
   "metadata": {},
   "outputs": [],
   "source": [
    "#pd.DataFrame(Cs, index=y, columns=θs)"
   ]
  },
  {
   "cell_type": "code",
   "execution_count": 33,
   "id": "443f32b7-6d3a-4ef5-bde7-f121c64410a4",
   "metadata": {},
   "outputs": [],
   "source": [
    "#pd.DataFrame(Ds, index=y, columns=u)"
   ]
  },
  {
   "cell_type": "markdown",
   "id": "e194bb8f-8bcd-4575-ba02-6734776c3cfc",
   "metadata": {},
   "source": [
    "# [Implementation et resultats : simulation stationnaire, polystrène expansé ](Stationnaire_cas.ipynb)\n",
    "\n",
    "# [ Implementation et resultats : simulation stationnaire, laine de mouton ](laine.ipynb)\n",
    "\n",
    "# [ Estimation degre-heures](degre-hours.ipynb)\n",
    "\n",
    "# [ Modèle Mathematique, implementation et resultats : simulation stationnaire à répresetation état-spatiel ](state-space.ipynb)\n",
    "\n",
    "# [ Simulation dynamique ](simulation_dynamique.ipynb)\n",
    "\n",
    "# [Simulation dynamique : changer entre modèles](heat-cool.ipynb)\n",
    "\n",
    "# [Simulation dynamique : Contrôleur avec feedback](feedback_control.ipynb)\n",
    "\n",
    "\n",
    "---\n"
   ]
  }
 ],
 "metadata": {
  "kernelspec": {
   "display_name": "Python 3 (ipykernel)",
   "language": "python",
   "name": "python3"
  },
  "language_info": {
   "codemirror_mode": {
    "name": "ipython",
    "version": 3
   },
   "file_extension": ".py",
   "mimetype": "text/x-python",
   "name": "python",
   "nbconvert_exporter": "python",
   "pygments_lexer": "ipython3",
   "version": "3.9.7"
  }
 },
 "nbformat": 4,
 "nbformat_minor": 5
}
