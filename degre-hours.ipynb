{
 "cells": [
  {
   "cell_type": "markdown",
   "id": "340f7128-013d-4b5b-8f62-955af84c3098",
   "metadata": {},
   "source": [
    "# [ Introduction](Introduction.ipynb)\n",
    "\n",
    "# [ Données météorologiques](Donnes_meteo.ipynb)\n",
    "\n",
    "# [ Modèle Thermique et modèle mathematique](Modele_thermique.ipynb)\n",
    "\n",
    "# [Implementation et resultats : simulation stationnaire, polystrène expansé ](Stationnaire_cas.ipynb)\n",
    "\n",
    "# [ Implementation et resultats : simulation stationnaire, laine de mouton ](laine.ipynb)\n",
    "\n",
    "# Estimation en degrés-heure du potentiel d'économie d'énergie obtenu par le chauffage intermittent"
   ]
  },
  {
   "cell_type": "markdown",
   "id": "1b9d8c5e-f320-47d4-a696-3e90a2d16a85",
   "metadata": {},
   "source": [
    "L'intermittence consiste à réduire la puissance de chauffage pendant la nuit. En première approximation, les économies obtenues peuvent être estimées en utilisant les degrés-heures ([Ghiaus and Allard, 2006](https://doi.org/10.1016/j.solener.2005.05.019)).\n",
    "\n",
    "Bien que les utilisations du projet ne soient pas entièrement définies, nous envisageons l'hypothèse que les petits appartements seront utilisés comme logements,  dans le but d'estimer les économies d'énergie par la méthode en degrés par heure."
   ]
  },
  {
   "cell_type": "markdown",
   "id": "00ddf843-dc6c-45ac-9d2c-39f4cfe2db2d",
   "metadata": {},
   "source": [
    "On peut modeleliser le bâtiment comme un volume separé du reste de l'environnement par un envelope. Les températures interieurs et exterieurs ainsi que les propietés de l'envelope sont homogènes. On écrit l'équilibre stationnaire comme : \n",
    "$$\\dot{Q}_{HVAC} - U_{bldg}·S·(\\theta_{in} - \\theta_{out}) = 0$$"
   ]
  },
  {
   "cell_type": "markdown",
   "id": "26677f2d-96b7-448b-81cf-7c3577171f85",
   "metadata": {},
   "source": [
    "The energy consumption of the HVAC system needed to maintain the indoor temperature at the value $\\theta_{in}$ over a period of time is the integral in time of the power load ([Ghiaus, 2006](https://doi.org/10.1016/j.enbuild.2005.08.014)):\n",
    "\n",
    "$$Q_{HVAC} = \\int_{0}^{t} |\\dot{Q}_{HVAC}| dt = \\int_{0}^{t} |U_{bldg}·S·(\\theta_{in} - \\theta_{out})| dt $$\n",
    "\n",
    "where $|\\dot{Q}_{HVAC}|$ is the absolute value of $\\dot{Q}_{HVAC}$.\n",
    "\n",
    "On considére la temperature constante pendant la journée $(T_{day})$ et une temperature réduite pendant la nuit $(T_{night})$."
   ]
  },
  {
   "cell_type": "markdown",
   "id": "c86f5503-2945-4ac6-9b31-75fdb09d25fb",
   "metadata": {},
   "source": [
    "## Implementation dans Python"
   ]
  },
  {
   "cell_type": "code",
   "execution_count": 1,
   "id": "d454e291-ad97-4407-b9b4-4b02646d8648",
   "metadata": {},
   "outputs": [],
   "source": [
    "import pandas as pd\n",
    "from dm4bem import read_epw\n",
    "\n",
    "# Inputs\n",
    "# ======\n",
    "filename = './weather_data/FRA_AR_Bourg-St-Maurice.074970_TMYx.2007-2021.epw'\n",
    "\n",
    "θ = 20          # °C, indoor temperature all time\n",
    "θday = θ        # °C, indoor temperature during day,, e.g.: 06:00 - 22:00\n",
    "θnight = 14     # °C, indoor temperature during night 23:00 - 06:00\n",
    "\n",
    "#tout l'année\n",
    "period_start = '2000-01-01'\n",
    "period_end = '2000-12-31'\n",
    "\n",
    "daytime_start = '06:00:00+01:00'\n",
    "daytime_end = '22:00:00+01:00'"
   ]
  },
  {
   "cell_type": "code",
   "execution_count": 2,
   "id": "4fd4fda0-ea3f-462d-b5bf-cc0830c8f4e3",
   "metadata": {},
   "outputs": [],
   "source": [
    "# Computation\n",
    "# ===========\n",
    "# read Energy Plus Weather data (file .EPW)\n",
    "[data, meta] = read_epw(filename, coerce_year=2000)\n",
    "\n",
    "# select outdoor air temperature; call it θout\n",
    "df = data[[\"temp_air\"]]\n",
    "del data\n",
    "df = df.rename(columns={'temp_air': 'θout'})\n",
    "\n",
    "# Select the data for a period of the year\n",
    "df = df.loc[period_start:period_end]"
   ]
  },
  {
   "cell_type": "markdown",
   "id": "e4446acb-d131-4eed-bb48-e8301b20aaf3",
   "metadata": {},
   "source": [
    "### Différences de température pour une température intérieure constante\n",
    "\n",
    "$$\\Delta \\theta_{fix,k} = \\theta - \\left \\lceil  \\theta_{out,k} \\right \\rceil$$\n",
    "\n",
    "où :\n",
    "- $\\theta$ - température intérieure (constante tout le temps), °C;\n",
    "- $\\left \\lceil \\theta_{out,k} \\right \\rceil$ - température extérieure limitée par la température intérieure (c'est-à-dire non supérieure à la température intérieure), °C,\n",
    "\n",
    "où :\n",
    "$\\left \\lceil  \\theta_{out,k} \\right \\rceil = \n",
    "\\begin{cases}\n",
    "\\theta_{out,k} \\text{, if } \\theta_{out,k} < \\theta\n",
    "\\\\\n",
    "\\theta \\text{ otherwise}\n",
    "\\end{cases}$\n"
   ]
  },
  {
   "cell_type": "code",
   "execution_count": 3,
   "id": "0b32ef9a-a21e-4203-8196-8d31df8d5b57",
   "metadata": {},
   "outputs": [],
   "source": [
    "# Compute degree-hours for fixed set-point\n",
    "# ----------------------------------------\n",
    "df['Δθfix'] = θ - df['θout'].where(\n",
    "    df['θout'] < θ,\n",
    "    θ)"
   ]
  },
  {
   "cell_type": "markdown",
   "id": "c609696b-6c0b-4459-8a20-027434c5daca",
   "metadata": {},
   "source": [
    "### Différences de température pour une température intérieure variable\n",
    "\n",
    "#### Jour et nuit\n",
    "\n",
    "L'heure du jour s'étend du \"début du jour\" à la \"fin du jour\" (indiquée en \"HH:00\"). La nuit correspond à la période où il n'y a pas de jour."
   ]
  },
  {
   "cell_type": "code",
   "execution_count": 4,
   "id": "ff85b941-17d8-4732-ac72-6f2ad845d3c0",
   "metadata": {},
   "outputs": [],
   "source": [
    "# Define start time for day and night\n",
    "day_start = pd.to_datetime(daytime_start).time()\n",
    "day_end = pd.to_datetime(daytime_end).time()\n",
    "\n",
    "# Daytime should be between 00:00 and 24:00\n",
    "# Daytime including midnight is not allowed, e.g., 22:00 till 06:00\n",
    "day = (df.index.time >= day_start) & (df.index.time <= day_end)\n",
    "night = ~day"
   ]
  },
  {
   "cell_type": "markdown",
   "id": "5708c0a8-881b-40d0-8f6f-d93de24f9325",
   "metadata": {},
   "source": [
    "#### Différences de température pour le jour"
   ]
  },
  {
   "cell_type": "markdown",
   "id": "8c0c7dcf-9501-4160-9da2-e1e93d3fba42",
   "metadata": {},
   "source": [
    "$$\\Delta \\theta_{day,k} = \\theta_{day} - \\left \\lceil  \\theta_{out,k} \\right \\rceil_{day}$$\n",
    "\n",
    "where:\n",
    "- $\\theta_{day}$ - indoor temperature over the time $k$, °C;\n",
    "- $\\left \\lceil  \\theta_{out,k} \\right \\rceil_{day}$ - outdoor temperature bounded by indoor temperature during the daytime, °C,\n",
    "\n",
    "where \n",
    "$\\left \\lceil  \\theta_{out,k} \\right \\rceil_{day} =\n",
    "\\begin{cases}\n",
    "\\theta_{out,k} \\text{, if } \\theta_{out,k} < \\theta_{day} \\text{ and daytime}\n",
    "\\\\\n",
    "\\theta_{day} \\text{, otherwise}\n",
    "\\end{cases}$ \n"
   ]
  },
  {
   "cell_type": "code",
   "execution_count": 5,
   "id": "5c668222-dc54-414b-b9a5-0b2713dba302",
   "metadata": {},
   "outputs": [],
   "source": [
    "# Degree-hours for daytime\n",
    "df['Δθday'] = θday - df['θout'].where(\n",
    "    (df['θout'] < θday) & day,\n",
    "    θday)"
   ]
  },
  {
   "cell_type": "markdown",
   "id": "fb03440e-7f3c-473a-88d2-ccbc7b1a8e99",
   "metadata": {},
   "source": [
    "#### Différences de température pour la nuit"
   ]
  },
  {
   "cell_type": "markdown",
   "id": "940e5eec-a869-40be-bf04-cf9a9fac25b2",
   "metadata": {},
   "source": [
    "$$\\Delta \\theta_{night,k} = \\theta_{night} - \\left \\lceil  \\theta_{out,k} \\right \\rceil_{night}$$\n",
    "\n",
    "where:\n",
    "- $\\theta_{night}$ - indoor temperature over the time $k$, °C;\n",
    "- $\\left \\lceil  \\theta_{out,k} \\right \\rceil_{night}$ - outdoor temperature bounded by the indoor temperature during the nighttime, °C, \n",
    "\n",
    "where\n",
    "$\\left \\lceil  \\theta_{out,k} \\right \\rceil_{night} =\n",
    "\\begin{cases}\n",
    "\\theta_{out,k} \\text{, if }  \\theta_{out,k} < \\theta_{night}  \\text{ and nighttime}\n",
    "\\\\\n",
    "\\theta_{night} \\text{, otherwise}\n",
    "\\end{cases}$ "
   ]
  },
  {
   "cell_type": "code",
   "execution_count": 6,
   "id": "24c7f331-ee4a-45d4-93bf-e1b225ac2854",
   "metadata": {},
   "outputs": [],
   "source": [
    "# Degree-hours for nighttime\n",
    "df['Δθnight'] = θnight - df['θout'].where(\n",
    "    (df['θout'] < θnight) & night,\n",
    "    θnight)"
   ]
  },
  {
   "cell_type": "markdown",
   "id": "b5166ea7-ccd5-4441-8499-42678b166563",
   "metadata": {},
   "source": [
    "### Degrés-heures de chauffage (DHH)\n",
    "\n",
    "Les degrés-heures de chauffage (_DHH_) sont la somme des différences de température :\n",
    "- pour une température intérieure fixe\n",
    "\n",
    "$$DHH_{fix} = \\sum_{k=0}^{n} \\Delta \\theta_{fix,k} = \\sum_{k=0}^{n} ( \\theta - \\lceil gauche \\theta_{out,k} \\rceil droit) $$$\n",
    "\n",
    "- pour la température intérieure de jour\n",
    "\n",
    "$$DHH_{day} = \\sum_{k=0}^{n} \\Delta \\theta_{day,k} = \\sum_{k=0}^{n} ( \\theta_{day} - \\left \\lceil \\theta_{out,k} \\right \\rceil_{day})$$\n",
    "\n",
    "- pour la température intérieure nocturne\n",
    "\n",
    "$$DHH_{night} = \\sum_{k=0}^{n} \\Delta \\theta_{night,k} = \\sum_{k=0}^{n} ( \\theta_{night} - \\left \\lceil \\theta_{out,k} \\right \\rceil_{night})$$\n",
    "\n",
    "- pour l'intermittence\n",
    "\n",
    "$$DHH_{interm} = DHH_{day} + DHH_{night}$$.\n",
    "\n",
    "Le pourcentage d'économie d'énergie par l'utilisation d'un chauffage intermittent est :\n",
    "\n",
    "$$s = \\frac{DHH_{fix} - DHH_{interm}}{DHH_{fix}} 100 \\%$$"
   ]
  },
  {
   "cell_type": "code",
   "execution_count": 7,
   "id": "2306576b-9a48-46c2-bfc9-3201acd07012",
   "metadata": {},
   "outputs": [
    {
     "name": "stdout",
     "output_type": "stream",
     "text": [
      "degree-hours fixed set-point: 126222.4 h·K\n",
      "degree-hours variable set-point: 110904.6 h·K\n",
      "Estimated savings: 12 %\n"
     ]
    }
   ],
   "source": [
    "# Sum of degree-hours for fixed indoor temperature\n",
    "DHH_fix = df['Δθfix'].sum()\n",
    "\n",
    "# Sum of degree-hours for intermittent heating\n",
    "DHH_interm = df['Δθday'].sum() + df['Δθnight'].sum()\n",
    "\n",
    "# Results\n",
    "# =======\n",
    "print(f\"degree-hours fixed set-point: {DHH_fix:.1f} h·K\")\n",
    "print(f\"degree-hours variable set-point: {DHH_interm:.1f} h·K\")\n",
    "print(f\"Estimated savings: {(DHH_fix - DHH_interm) / DHH_fix * 100:.0f} %\")"
   ]
  },
  {
   "cell_type": "markdown",
   "id": "fea9bc95-f7fb-4395-ba2d-d154ea55d438",
   "metadata": {},
   "source": [
    "## Conclusion sur les résultats"
   ]
  },
  {
   "cell_type": "markdown",
   "id": "fe4fd752-b820-44f4-a356-1d087e501d81",
   "metadata": {},
   "source": [
    "Des économies d'énergie de 12 % sont attendues, ce qui permet de conclure qu'il est plus efficace d'utiliser un chauffage intermittent."
   ]
  },
  {
   "cell_type": "markdown",
   "id": "4a0931ea-5fcd-4bd9-8880-d60586bd3565",
   "metadata": {},
   "source": [
    "# [ Modèle Mathematique, implementation et resultats : simulation stationnaire à répresetation état-spatiel ](state-space.ipynb)\n",
    "\n",
    "# [ Simulation dynamique ](simulation_dynamique.ipynb)\n",
    "\n",
    "# [Simulation dynamique : changer entre modèles](heat-cool.ipynb)\n",
    "\n",
    "# [Simulation dynamique : Contrôleur avec feedback](feedback_control.ipynb)\n",
    "\n",
    "\n",
    "---"
   ]
  },
  {
   "cell_type": "code",
   "execution_count": null,
   "id": "f34bb9ec-4f67-4b3b-b264-c5a83182eeeb",
   "metadata": {},
   "outputs": [],
   "source": []
  }
 ],
 "metadata": {
  "kernelspec": {
   "display_name": "Python 3 (ipykernel)",
   "language": "python",
   "name": "python3"
  },
  "language_info": {
   "codemirror_mode": {
    "name": "ipython",
    "version": 3
   },
   "file_extension": ".py",
   "mimetype": "text/x-python",
   "name": "python",
   "nbconvert_exporter": "python",
   "pygments_lexer": "ipython3",
   "version": "3.9.7"
  }
 },
 "nbformat": 4,
 "nbformat_minor": 5
}
